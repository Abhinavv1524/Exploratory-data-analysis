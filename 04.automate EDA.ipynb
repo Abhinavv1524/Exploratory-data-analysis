{
 "cells": [
  {
   "cell_type": "markdown",
   "metadata": {},
   "source": [
    "## Automate EDA Technique"
   ]
  },
  {
   "cell_type": "code",
   "execution_count": 1,
   "metadata": {},
   "outputs": [
    {
     "name": "stdout",
     "output_type": "stream",
     "text": [
      "^C\n"
     ]
    },
    {
     "name": "stdout",
     "output_type": "stream",
     "text": [
      "Requirement already satisfied: pandas-profiling in f:\\practice\\data science\\eda\\env\\lib\\site-packages (3.2.0)\n",
      "Requirement already satisfied: joblib~=1.1.0 in f:\\practice\\data science\\eda\\env\\lib\\site-packages (from pandas-profiling) (1.1.1)\n",
      "Requirement already satisfied: scipy>=1.4.1 in f:\\practice\\data science\\eda\\env\\lib\\site-packages (from pandas-profiling) (1.15.2)\n",
      "Requirement already satisfied: pandas!=1.0.0,!=1.0.1,!=1.0.2,!=1.1.0,>=0.25.3 in f:\\practice\\data science\\eda\\env\\lib\\site-packages (from pandas-profiling) (2.2.3)\n",
      "Requirement already satisfied: matplotlib>=3.2.0 in f:\\practice\\data science\\eda\\env\\lib\\site-packages (from pandas-profiling) (3.10.1)\n",
      "Requirement already satisfied: pydantic>=1.8.1 in f:\\practice\\data science\\eda\\env\\lib\\site-packages (from pandas-profiling) (2.10.6)\n",
      "Requirement already satisfied: PyYAML>=5.0.0 in f:\\practice\\data science\\eda\\env\\lib\\site-packages (from pandas-profiling) (6.0.2)\n",
      "Requirement already satisfied: jinja2>=2.11.1 in f:\\practice\\data science\\eda\\env\\lib\\site-packages (from pandas-profiling) (3.1.5)\n",
      "Requirement already satisfied: markupsafe~=2.1.1 in f:\\practice\\data science\\eda\\env\\lib\\site-packages (from pandas-profiling) (2.1.5)\n",
      "Collecting visions==0.7.4 (from visions[type_image_path]==0.7.4->pandas-profiling)\n",
      "  Using cached visions-0.7.4-py3-none-any.whl.metadata (5.9 kB)\n",
      "Requirement already satisfied: numpy>=1.16.0 in f:\\practice\\data science\\eda\\env\\lib\\site-packages (from pandas-profiling) (2.1.3)\n",
      "Requirement already satisfied: htmlmin>=0.1.12 in f:\\practice\\data science\\eda\\env\\lib\\site-packages (from pandas-profiling) (0.1.12)\n",
      "Requirement already satisfied: missingno>=0.4.2 in f:\\practice\\data science\\eda\\env\\lib\\site-packages (from pandas-profiling) (0.5.2)\n",
      "Requirement already satisfied: phik>=0.11.1 in f:\\practice\\data science\\eda\\env\\lib\\site-packages (from pandas-profiling) (0.12.4)\n",
      "Requirement already satisfied: tangled-up-in-unicode==0.2.0 in f:\\practice\\data science\\eda\\env\\lib\\site-packages (from pandas-profiling) (0.2.0)\n",
      "Requirement already satisfied: requests>=2.24.0 in f:\\practice\\data science\\eda\\env\\lib\\site-packages (from pandas-profiling) (2.32.3)\n",
      "Requirement already satisfied: tqdm>=4.48.2 in f:\\practice\\data science\\eda\\env\\lib\\site-packages (from pandas-profiling) (4.67.1)\n",
      "Requirement already satisfied: seaborn>=0.10.1 in f:\\practice\\data science\\eda\\env\\lib\\site-packages (from pandas-profiling) (0.13.2)\n",
      "Requirement already satisfied: multimethod>=1.4 in f:\\practice\\data science\\eda\\env\\lib\\site-packages (from pandas-profiling) (1.12)\n",
      "Requirement already satisfied: attrs>=19.3.0 in f:\\practice\\data science\\eda\\env\\lib\\site-packages (from visions==0.7.4->visions[type_image_path]==0.7.4->pandas-profiling) (25.1.0)\n",
      "Requirement already satisfied: networkx>=2.4 in f:\\practice\\data science\\eda\\env\\lib\\site-packages (from visions==0.7.4->visions[type_image_path]==0.7.4->pandas-profiling) (3.4.2)\n",
      "Requirement already satisfied: imagehash in f:\\practice\\data science\\eda\\env\\lib\\site-packages (from visions[type_image_path]==0.7.4->pandas-profiling) (4.3.1)\n",
      "Requirement already satisfied: Pillow in f:\\practice\\data science\\eda\\env\\lib\\site-packages (from visions[type_image_path]==0.7.4->pandas-profiling) (11.1.0)\n",
      "Requirement already satisfied: contourpy>=1.0.1 in f:\\practice\\data science\\eda\\env\\lib\\site-packages (from matplotlib>=3.2.0->pandas-profiling) (1.3.1)\n",
      "Requirement already satisfied: cycler>=0.10 in f:\\practice\\data science\\eda\\env\\lib\\site-packages (from matplotlib>=3.2.0->pandas-profiling) (0.12.1)\n",
      "Requirement already satisfied: fonttools>=4.22.0 in f:\\practice\\data science\\eda\\env\\lib\\site-packages (from matplotlib>=3.2.0->pandas-profiling) (4.56.0)\n",
      "Requirement already satisfied: kiwisolver>=1.3.1 in f:\\practice\\data science\\eda\\env\\lib\\site-packages (from matplotlib>=3.2.0->pandas-profiling) (1.4.8)\n",
      "Requirement already satisfied: packaging>=20.0 in f:\\practice\\data science\\eda\\env\\lib\\site-packages (from matplotlib>=3.2.0->pandas-profiling) (24.2)\n",
      "Requirement already satisfied: pyparsing>=2.3.1 in f:\\practice\\data science\\eda\\env\\lib\\site-packages (from matplotlib>=3.2.0->pandas-profiling) (3.2.1)\n",
      "Requirement already satisfied: python-dateutil>=2.7 in f:\\practice\\data science\\eda\\env\\lib\\site-packages (from matplotlib>=3.2.0->pandas-profiling) (2.9.0.post0)\n",
      "Requirement already satisfied: pytz>=2020.1 in f:\\practice\\data science\\eda\\env\\lib\\site-packages (from pandas!=1.0.0,!=1.0.1,!=1.0.2,!=1.1.0,>=0.25.3->pandas-profiling) (2025.1)\n",
      "Requirement already satisfied: tzdata>=2022.7 in f:\\practice\\data science\\eda\\env\\lib\\site-packages (from pandas!=1.0.0,!=1.0.1,!=1.0.2,!=1.1.0,>=0.25.3->pandas-profiling) (2025.1)\n",
      "Requirement already satisfied: annotated-types>=0.6.0 in f:\\practice\\data science\\eda\\env\\lib\\site-packages (from pydantic>=1.8.1->pandas-profiling) (0.7.0)\n",
      "Requirement already satisfied: pydantic-core==2.27.2 in f:\\practice\\data science\\eda\\env\\lib\\site-packages (from pydantic>=1.8.1->pandas-profiling) (2.27.2)\n",
      "Requirement already satisfied: typing-extensions>=4.12.2 in f:\\practice\\data science\\eda\\env\\lib\\site-packages (from pydantic>=1.8.1->pandas-profiling) (4.12.2)\n",
      "Requirement already satisfied: charset-normalizer<4,>=2 in f:\\practice\\data science\\eda\\env\\lib\\site-packages (from requests>=2.24.0->pandas-profiling) (3.4.1)\n",
      "Requirement already satisfied: idna<4,>=2.5 in f:\\practice\\data science\\eda\\env\\lib\\site-packages (from requests>=2.24.0->pandas-profiling) (3.10)\n",
      "Requirement already satisfied: urllib3<3,>=1.21.1 in f:\\practice\\data science\\eda\\env\\lib\\site-packages (from requests>=2.24.0->pandas-profiling) (2.3.0)\n",
      "Requirement already satisfied: certifi>=2017.4.17 in f:\\practice\\data science\\eda\\env\\lib\\site-packages (from requests>=2.24.0->pandas-profiling) (2025.1.31)\n",
      "Requirement already satisfied: colorama in f:\\practice\\data science\\eda\\env\\lib\\site-packages (from tqdm>=4.48.2->pandas-profiling) (0.4.6)\n",
      "Requirement already satisfied: six>=1.5 in f:\\practice\\data science\\eda\\env\\lib\\site-packages (from python-dateutil>=2.7->matplotlib>=3.2.0->pandas-profiling) (1.17.0)\n",
      "Requirement already satisfied: PyWavelets in f:\\practice\\data science\\eda\\env\\lib\\site-packages (from imagehash->visions[type_image_path]==0.7.4->pandas-profiling) (1.8.0)\n",
      "Using cached visions-0.7.4-py3-none-any.whl (102 kB)\n",
      "Installing collected packages: visions\n",
      "  Attempting uninstall: visions\n",
      "    Found existing installation: visions 0.7.6\n",
      "    Uninstalling visions-0.7.6:\n",
      "      Successfully uninstalled visions-0.7.6\n",
      "Successfully installed visions-0.7.4\n"
     ]
    },
    {
     "name": "stderr",
     "output_type": "stream",
     "text": [
      "ERROR: pip's dependency resolver does not currently take into account all the packages that are installed. This behaviour is the source of the following dependency conflicts.\n",
      "ydata-profiling 4.12.2 requires visions[type_image_path]<0.8.0,>=0.7.5, but you have visions 0.7.4 which is incompatible.\n",
      "\n",
      "[notice] A new release of pip is available: 24.3.1 -> 25.0.1\n",
      "[notice] To update, run: python.exe -m pip install --upgrade pip\n"
     ]
    }
   ],
   "source": [
    "!pip install pandas-profiling"
   ]
  },
  {
   "cell_type": "code",
   "execution_count": 2,
   "metadata": {},
   "outputs": [
    {
     "name": "stderr",
     "output_type": "stream",
     "text": [
      "f:\\Practice\\Data Science\\EDA\\env\\Lib\\site-packages\\tqdm\\auto.py:21: TqdmWarning: IProgress not found. Please update jupyter and ipywidgets. See https://ipywidgets.readthedocs.io/en/stable/user_install.html\n",
      "  from .autonotebook import tqdm as notebook_tqdm\n"
     ]
    }
   ],
   "source": [
    "import ydata_profiling"
   ]
  },
  {
   "cell_type": "code",
   "execution_count": 3,
   "metadata": {},
   "outputs": [],
   "source": [
    "import seaborn as sns "
   ]
  },
  {
   "cell_type": "code",
   "execution_count": 4,
   "metadata": {},
   "outputs": [
    {
     "data": {
      "text/html": [
       "<div>\n",
       "<style scoped>\n",
       "    .dataframe tbody tr th:only-of-type {\n",
       "        vertical-align: middle;\n",
       "    }\n",
       "\n",
       "    .dataframe tbody tr th {\n",
       "        vertical-align: top;\n",
       "    }\n",
       "\n",
       "    .dataframe thead th {\n",
       "        text-align: right;\n",
       "    }\n",
       "</style>\n",
       "<table border=\"1\" class=\"dataframe\">\n",
       "  <thead>\n",
       "    <tr style=\"text-align: right;\">\n",
       "      <th></th>\n",
       "      <th>total_bill</th>\n",
       "      <th>tip</th>\n",
       "      <th>sex</th>\n",
       "      <th>smoker</th>\n",
       "      <th>day</th>\n",
       "      <th>time</th>\n",
       "      <th>size</th>\n",
       "    </tr>\n",
       "  </thead>\n",
       "  <tbody>\n",
       "    <tr>\n",
       "      <th>0</th>\n",
       "      <td>16.99</td>\n",
       "      <td>1.01</td>\n",
       "      <td>Female</td>\n",
       "      <td>No</td>\n",
       "      <td>Sun</td>\n",
       "      <td>Dinner</td>\n",
       "      <td>2</td>\n",
       "    </tr>\n",
       "    <tr>\n",
       "      <th>1</th>\n",
       "      <td>10.34</td>\n",
       "      <td>1.66</td>\n",
       "      <td>Male</td>\n",
       "      <td>No</td>\n",
       "      <td>Sun</td>\n",
       "      <td>Dinner</td>\n",
       "      <td>3</td>\n",
       "    </tr>\n",
       "    <tr>\n",
       "      <th>2</th>\n",
       "      <td>21.01</td>\n",
       "      <td>3.50</td>\n",
       "      <td>Male</td>\n",
       "      <td>No</td>\n",
       "      <td>Sun</td>\n",
       "      <td>Dinner</td>\n",
       "      <td>3</td>\n",
       "    </tr>\n",
       "    <tr>\n",
       "      <th>3</th>\n",
       "      <td>23.68</td>\n",
       "      <td>3.31</td>\n",
       "      <td>Male</td>\n",
       "      <td>No</td>\n",
       "      <td>Sun</td>\n",
       "      <td>Dinner</td>\n",
       "      <td>2</td>\n",
       "    </tr>\n",
       "    <tr>\n",
       "      <th>4</th>\n",
       "      <td>24.59</td>\n",
       "      <td>3.61</td>\n",
       "      <td>Female</td>\n",
       "      <td>No</td>\n",
       "      <td>Sun</td>\n",
       "      <td>Dinner</td>\n",
       "      <td>4</td>\n",
       "    </tr>\n",
       "  </tbody>\n",
       "</table>\n",
       "</div>"
      ],
      "text/plain": [
       "   total_bill   tip     sex smoker  day    time  size\n",
       "0       16.99  1.01  Female     No  Sun  Dinner     2\n",
       "1       10.34  1.66    Male     No  Sun  Dinner     3\n",
       "2       21.01  3.50    Male     No  Sun  Dinner     3\n",
       "3       23.68  3.31    Male     No  Sun  Dinner     2\n",
       "4       24.59  3.61  Female     No  Sun  Dinner     4"
      ]
     },
     "execution_count": 4,
     "metadata": {},
     "output_type": "execute_result"
    }
   ],
   "source": [
    "df  = sns.load_dataset('tips')\n",
    "df.head()"
   ]
  },
  {
   "cell_type": "code",
   "execution_count": 5,
   "metadata": {},
   "outputs": [],
   "source": [
    "from ydata_profiling import ProfileReport\n",
    "\n",
    "profile = ProfileReport(df)"
   ]
  },
  {
   "cell_type": "code",
   "execution_count": 6,
   "metadata": {},
   "outputs": [
    {
     "name": "stderr",
     "output_type": "stream",
     "text": [
      "Summarize dataset:   0%|          | 0/5 [00:00<?, ?it/s]"
     ]
    },
    {
     "name": "stderr",
     "output_type": "stream",
     "text": [
      "Summarize dataset: 100%|██████████| 25/25 [00:03<00:00,  7.67it/s, Completed]                     \n",
      "Generate report structure: 100%|██████████| 1/1 [00:02<00:00,  2.60s/it]\n",
      "Render HTML: 100%|██████████| 1/1 [00:01<00:00,  1.98s/it]\n",
      "Export report to file: 100%|██████████| 1/1 [00:00<00:00, 111.16it/s]\n"
     ]
    }
   ],
   "source": [
    "profile.to_file('04.output.html')"
   ]
  },
  {
   "cell_type": "code",
   "execution_count": 7,
   "metadata": {},
   "outputs": [
    {
     "name": "stdout",
     "output_type": "stream",
     "text": [
      "^C\n"
     ]
    }
   ],
   "source": [
    "## dtale\n",
    "!pip install dtale\n"
   ]
  },
  {
   "cell_type": "code",
   "execution_count": 8,
   "metadata": {},
   "outputs": [],
   "source": [
    "import pandas as pd"
   ]
  },
  {
   "cell_type": "code",
   "execution_count": 9,
   "metadata": {},
   "outputs": [],
   "source": [
    "df = sns.load_dataset('titanic')"
   ]
  },
  {
   "cell_type": "code",
   "execution_count": 10,
   "metadata": {},
   "outputs": [
    {
     "name": "stdout",
     "output_type": "stream",
     "text": [
      "Collecting dtale\n",
      "  Downloading dtale-3.16.1-py2.py3-none-any.whl.metadata (16 kB)\n",
      "Collecting dash-colorscales (from dtale)\n",
      "  Downloading dash_colorscales-0.0.4.tar.gz (62 kB)\n",
      "  Installing build dependencies: started\n",
      "  Installing build dependencies: finished with status 'done'\n",
      "  Getting requirements to build wheel: started\n",
      "  Getting requirements to build wheel: finished with status 'done'\n",
      "  Preparing metadata (pyproject.toml): started\n",
      "  Preparing metadata (pyproject.toml): finished with status 'done'\n",
      "Collecting dash-daq (from dtale)\n",
      "  Downloading dash_daq-0.5.0.tar.gz (642 kB)\n",
      "     ---------------------------------------- 0.0/642.7 kB ? eta -:--:--\n",
      "     -------------------------------------- 642.7/642.7 kB 8.1 MB/s eta 0:00:00\n",
      "  Installing build dependencies: started\n",
      "  Installing build dependencies: finished with status 'done'\n",
      "  Getting requirements to build wheel: started\n",
      "  Getting requirements to build wheel: finished with status 'done'\n",
      "  Preparing metadata (pyproject.toml): started\n",
      "  Preparing metadata (pyproject.toml): finished with status 'done'\n",
      "Collecting future>=0.14.0 (from dtale)\n",
      "  Downloading future-1.0.0-py3-none-any.whl.metadata (4.0 kB)\n",
      "Requirement already satisfied: missingno in f:\\practice\\data science\\eda\\env\\lib\\site-packages (from dtale) (0.5.2)\n",
      "Requirement already satisfied: pandas in f:\\practice\\data science\\eda\\env\\lib\\site-packages (from dtale) (2.2.3)\n",
      "Collecting squarify (from dtale)\n",
      "  Downloading squarify-0.4.4-py3-none-any.whl.metadata (600 bytes)\n",
      "Collecting strsimpy (from dtale)\n",
      "  Downloading strsimpy-0.2.1-py3-none-any.whl.metadata (20 kB)\n",
      "Requirement already satisfied: six in f:\\practice\\data science\\eda\\env\\lib\\site-packages (from dtale) (1.17.0)\n",
      "Collecting xlrd (from dtale)\n",
      "  Downloading xlrd-2.0.1-py2.py3-none-any.whl.metadata (3.4 kB)\n",
      "Collecting beautifulsoup4!=4.13.0b2 (from dtale)\n",
      "  Downloading beautifulsoup4-4.13.3-py3-none-any.whl.metadata (3.8 kB)\n",
      "Requirement already satisfied: certifi in f:\\practice\\data science\\eda\\env\\lib\\site-packages (from dtale) (2025.1.31)\n",
      "Collecting dash-bootstrap-components (from dtale)\n",
      "  Downloading dash_bootstrap_components-1.7.1-py3-none-any.whl.metadata (17 kB)\n",
      "Collecting lz4 (from dtale)\n",
      "  Downloading lz4-4.4.3-cp312-cp312-win_amd64.whl.metadata (3.9 kB)\n",
      "Requirement already satisfied: cycler in f:\\practice\\data science\\eda\\env\\lib\\site-packages (from dtale) (0.12.1)\n",
      "Collecting dash (from dtale)\n",
      "  Downloading dash-2.18.2-py3-none-any.whl.metadata (10 kB)\n",
      "Requirement already satisfied: seaborn in f:\\practice\\data science\\eda\\env\\lib\\site-packages (from dtale) (0.13.2)\n",
      "Collecting werkzeug (from dtale)\n",
      "  Downloading werkzeug-3.1.3-py3-none-any.whl.metadata (3.7 kB)\n",
      "Collecting Flask-Compress (from dtale)\n",
      "  Downloading Flask_Compress-1.17-py3-none-any.whl.metadata (8.8 kB)\n",
      "Collecting scikit-learn (from dtale)\n",
      "  Downloading scikit_learn-1.6.1-cp312-cp312-win_amd64.whl.metadata (15 kB)\n",
      "Requirement already satisfied: statsmodels in f:\\practice\\data science\\eda\\env\\lib\\site-packages (from dtale) (0.14.4)\n",
      "Requirement already satisfied: networkx in f:\\practice\\data science\\eda\\env\\lib\\site-packages (from dtale) (3.4.2)\n",
      "Requirement already satisfied: numpy in f:\\practice\\data science\\eda\\env\\lib\\site-packages (from dtale) (2.1.3)\n",
      "Collecting openpyxl!=3.2.0b1 (from dtale)\n",
      "  Downloading openpyxl-3.1.5-py2.py3-none-any.whl.metadata (2.5 kB)\n",
      "Collecting xarray (from dtale)\n",
      "  Downloading xarray-2025.1.2-py3-none-any.whl.metadata (11 kB)\n",
      "Requirement already satisfied: scipy!=1.12.0rc1,!=1.14.0,!=1.14.0rc1,!=1.14.0rc2 in f:\\practice\\data science\\eda\\env\\lib\\site-packages (from dtale) (1.15.2)\n",
      "Collecting et-xmlfile (from dtale)\n",
      "  Downloading et_xmlfile-2.0.0-py3-none-any.whl.metadata (2.7 kB)\n",
      "Collecting plotly (from dtale)\n",
      "  Downloading plotly-6.0.0-py3-none-any.whl.metadata (5.6 kB)\n",
      "Collecting Flask (from dtale)\n",
      "  Downloading flask-3.1.0-py3-none-any.whl.metadata (2.7 kB)\n",
      "Collecting itsdangerous (from dtale)\n",
      "  Downloading itsdangerous-2.2.0-py3-none-any.whl.metadata (1.9 kB)\n",
      "Requirement already satisfied: requests in f:\\practice\\data science\\eda\\env\\lib\\site-packages (from dtale) (2.32.3)\n",
      "Collecting kaleido (from dtale)\n",
      "  Downloading kaleido-0.2.1-py2.py3-none-win_amd64.whl.metadata (15 kB)\n",
      "Requirement already satisfied: matplotlib in f:\\practice\\data science\\eda\\env\\lib\\site-packages (from dtale) (3.10.1)\n",
      "Collecting soupsieve>1.2 (from beautifulsoup4!=4.13.0b2->dtale)\n",
      "  Downloading soupsieve-2.6-py3-none-any.whl.metadata (4.6 kB)\n",
      "Requirement already satisfied: typing-extensions>=4.0.0 in f:\\practice\\data science\\eda\\env\\lib\\site-packages (from beautifulsoup4!=4.13.0b2->dtale) (4.12.2)\n",
      "Collecting Flask (from dtale)\n",
      "  Downloading flask-3.0.3-py3-none-any.whl.metadata (3.2 kB)\n",
      "Collecting werkzeug (from dtale)\n",
      "  Downloading werkzeug-3.0.6-py3-none-any.whl.metadata (3.7 kB)\n",
      "Collecting dash-html-components==2.0.0 (from dash->dtale)\n",
      "  Downloading dash_html_components-2.0.0-py3-none-any.whl.metadata (3.8 kB)\n",
      "Collecting dash-core-components==2.0.0 (from dash->dtale)\n",
      "  Downloading dash_core_components-2.0.0-py3-none-any.whl.metadata (2.9 kB)\n",
      "Collecting dash-table==5.0.0 (from dash->dtale)\n",
      "  Downloading dash_table-5.0.0-py3-none-any.whl.metadata (2.4 kB)\n",
      "Collecting importlib-metadata (from dash->dtale)\n",
      "  Downloading importlib_metadata-8.6.1-py3-none-any.whl.metadata (4.7 kB)\n",
      "Collecting retrying (from dash->dtale)\n",
      "  Downloading retrying-1.3.4-py3-none-any.whl.metadata (6.9 kB)\n",
      "Requirement already satisfied: nest-asyncio in f:\\practice\\data science\\eda\\env\\lib\\site-packages (from dash->dtale) (1.6.0)\n",
      "Requirement already satisfied: setuptools in f:\\practice\\data science\\eda\\env\\lib\\site-packages (from dash->dtale) (75.8.2)\n",
      "Requirement already satisfied: Jinja2>=3.1.2 in f:\\practice\\data science\\eda\\env\\lib\\site-packages (from Flask->dtale) (3.1.5)\n",
      "Collecting click>=8.1.3 (from Flask->dtale)\n",
      "  Downloading click-8.1.8-py3-none-any.whl.metadata (2.3 kB)\n",
      "Collecting blinker>=1.6.2 (from Flask->dtale)\n",
      "  Downloading blinker-1.9.0-py3-none-any.whl.metadata (1.6 kB)\n",
      "Collecting narwhals>=1.15.1 (from plotly->dtale)\n",
      "  Downloading narwhals-1.28.0-py3-none-any.whl.metadata (10 kB)\n",
      "Requirement already satisfied: packaging in f:\\practice\\data science\\eda\\env\\lib\\site-packages (from plotly->dtale) (24.2)\n",
      "Requirement already satisfied: MarkupSafe>=2.1.1 in f:\\practice\\data science\\eda\\env\\lib\\site-packages (from werkzeug->dtale) (2.1.5)\n",
      "Collecting brotli (from Flask-Compress->dtale)\n",
      "  Downloading Brotli-1.1.0-cp312-cp312-win_amd64.whl.metadata (5.6 kB)\n",
      "Collecting zstandard (from Flask-Compress->dtale)\n",
      "  Downloading zstandard-0.23.0-cp312-cp312-win_amd64.whl.metadata (3.0 kB)\n",
      "Requirement already satisfied: contourpy>=1.0.1 in f:\\practice\\data science\\eda\\env\\lib\\site-packages (from matplotlib->dtale) (1.3.1)\n",
      "Requirement already satisfied: fonttools>=4.22.0 in f:\\practice\\data science\\eda\\env\\lib\\site-packages (from matplotlib->dtale) (4.56.0)\n",
      "Requirement already satisfied: kiwisolver>=1.3.1 in f:\\practice\\data science\\eda\\env\\lib\\site-packages (from matplotlib->dtale) (1.4.8)\n",
      "Requirement already satisfied: pillow>=8 in f:\\practice\\data science\\eda\\env\\lib\\site-packages (from matplotlib->dtale) (11.1.0)\n",
      "Requirement already satisfied: pyparsing>=2.3.1 in f:\\practice\\data science\\eda\\env\\lib\\site-packages (from matplotlib->dtale) (3.2.1)\n",
      "Requirement already satisfied: python-dateutil>=2.7 in f:\\practice\\data science\\eda\\env\\lib\\site-packages (from matplotlib->dtale) (2.9.0.post0)\n",
      "Requirement already satisfied: pytz>=2020.1 in f:\\practice\\data science\\eda\\env\\lib\\site-packages (from pandas->dtale) (2025.1)\n",
      "Requirement already satisfied: tzdata>=2022.7 in f:\\practice\\data science\\eda\\env\\lib\\site-packages (from pandas->dtale) (2025.1)\n",
      "Requirement already satisfied: charset-normalizer<4,>=2 in f:\\practice\\data science\\eda\\env\\lib\\site-packages (from requests->dtale) (3.4.1)\n",
      "Requirement already satisfied: idna<4,>=2.5 in f:\\practice\\data science\\eda\\env\\lib\\site-packages (from requests->dtale) (3.10)\n",
      "Requirement already satisfied: urllib3<3,>=1.21.1 in f:\\practice\\data science\\eda\\env\\lib\\site-packages (from requests->dtale) (2.3.0)\n",
      "Collecting joblib>=1.2.0 (from scikit-learn->dtale)\n",
      "  Downloading joblib-1.4.2-py3-none-any.whl.metadata (5.4 kB)\n",
      "Collecting threadpoolctl>=3.1.0 (from scikit-learn->dtale)\n",
      "  Downloading threadpoolctl-3.5.0-py3-none-any.whl.metadata (13 kB)\n",
      "Requirement already satisfied: patsy>=0.5.6 in f:\\practice\\data science\\eda\\env\\lib\\site-packages (from statsmodels->dtale) (1.0.1)\n",
      "Requirement already satisfied: colorama in f:\\practice\\data science\\eda\\env\\lib\\site-packages (from click>=8.1.3->Flask->dtale) (0.4.6)\n",
      "Collecting zipp>=3.20 (from importlib-metadata->dash->dtale)\n",
      "  Downloading zipp-3.21.0-py3-none-any.whl.metadata (3.7 kB)\n",
      "Downloading dtale-3.16.1-py2.py3-none-any.whl (14.7 MB)\n",
      "   ---------------------------------------- 0.0/14.7 MB ? eta -:--:--\n",
      "   ---------------- ----------------------- 6.0/14.7 MB 28.4 MB/s eta 0:00:01\n",
      "   --------------------------- ------------ 10.2/14.7 MB 23.6 MB/s eta 0:00:01\n",
      "   ---------------------------------------  14.4/14.7 MB 22.1 MB/s eta 0:00:01\n",
      "   ---------------------------------------- 14.7/14.7 MB 20.1 MB/s eta 0:00:00\n",
      "Downloading beautifulsoup4-4.13.3-py3-none-any.whl (186 kB)\n",
      "Downloading future-1.0.0-py3-none-any.whl (491 kB)\n",
      "Downloading openpyxl-3.1.5-py2.py3-none-any.whl (250 kB)\n",
      "Downloading dash-2.18.2-py3-none-any.whl (7.8 MB)\n",
      "   ---------------------------------------- 0.0/7.8 MB ? eta -:--:--\n",
      "   ------------------------------ --------- 6.0/7.8 MB 28.4 MB/s eta 0:00:01\n",
      "   ---------------------------------------- 7.8/7.8 MB 23.0 MB/s eta 0:00:00\n",
      "Downloading dash_core_components-2.0.0-py3-none-any.whl (3.8 kB)\n",
      "Downloading dash_html_components-2.0.0-py3-none-any.whl (4.1 kB)\n",
      "Downloading dash_table-5.0.0-py3-none-any.whl (3.9 kB)\n",
      "Downloading flask-3.0.3-py3-none-any.whl (101 kB)\n",
      "Downloading itsdangerous-2.2.0-py3-none-any.whl (16 kB)\n",
      "Downloading plotly-6.0.0-py3-none-any.whl (14.8 MB)\n",
      "   ---------------------------------------- 0.0/14.8 MB ? eta -:--:--\n",
      "   ------------- -------------------------- 5.0/14.8 MB 30.2 MB/s eta 0:00:01\n",
      "   ---------------- ----------------------- 6.3/14.8 MB 15.4 MB/s eta 0:00:01\n",
      "   ----------------------- ---------------- 8.7/14.8 MB 13.4 MB/s eta 0:00:01\n",
      "   --------------------------------- ------ 12.6/14.8 MB 14.9 MB/s eta 0:00:01\n",
      "   ---------------------------------------  14.7/14.8 MB 14.2 MB/s eta 0:00:01\n",
      "   ---------------------------------------- 14.8/14.8 MB 13.1 MB/s eta 0:00:00\n",
      "Downloading werkzeug-3.0.6-py3-none-any.whl (227 kB)\n",
      "Downloading dash_bootstrap_components-1.7.1-py3-none-any.whl (229 kB)\n",
      "Downloading et_xmlfile-2.0.0-py3-none-any.whl (18 kB)\n",
      "Downloading Flask_Compress-1.17-py3-none-any.whl (8.7 kB)\n",
      "Downloading kaleido-0.2.1-py2.py3-none-win_amd64.whl (65.9 MB)\n",
      "   ---------------------------------------- 0.0/65.9 MB ? eta -:--:--\n",
      "   --- ------------------------------------ 5.2/65.9 MB 31.9 MB/s eta 0:00:02\n",
      "   --- ------------------------------------ 6.3/65.9 MB 14.9 MB/s eta 0:00:05\n",
      "   ----- ---------------------------------- 8.7/65.9 MB 13.1 MB/s eta 0:00:05\n",
      "   -------- ------------------------------- 14.7/65.9 MB 16.8 MB/s eta 0:00:04\n",
      "   ----------- ---------------------------- 18.6/65.9 MB 17.3 MB/s eta 0:00:03\n",
      "   ------------- -------------------------- 22.8/65.9 MB 17.6 MB/s eta 0:00:03\n",
      "   ---------------- ----------------------- 27.0/65.9 MB 18.0 MB/s eta 0:00:03\n",
      "   ------------------ --------------------- 31.2/65.9 MB 18.2 MB/s eta 0:00:02\n",
      "   --------------------- ------------------ 35.4/65.9 MB 18.3 MB/s eta 0:00:02\n",
      "   ------------------------ --------------- 39.6/65.9 MB 18.4 MB/s eta 0:00:02\n",
      "   -------------------------- ------------- 43.8/65.9 MB 18.4 MB/s eta 0:00:02\n",
      "   ----------------------------- ---------- 48.0/65.9 MB 18.6 MB/s eta 0:00:01\n",
      "   ------------------------------- -------- 51.9/65.9 MB 18.7 MB/s eta 0:00:01\n",
      "   ---------------------------------- ----- 56.1/65.9 MB 18.7 MB/s eta 0:00:01\n",
      "   ------------------------------------ --- 60.0/65.9 MB 18.6 MB/s eta 0:00:01\n",
      "   -------------------------------------- - 63.7/65.9 MB 18.5 MB/s eta 0:00:01\n",
      "   ---------------------------------------  65.8/65.9 MB 18.5 MB/s eta 0:00:01\n",
      "   ---------------------------------------- 65.9/65.9 MB 17.4 MB/s eta 0:00:00\n",
      "Downloading lz4-4.4.3-cp312-cp312-win_amd64.whl (99 kB)\n",
      "Downloading scikit_learn-1.6.1-cp312-cp312-win_amd64.whl (11.1 MB)\n",
      "   ---------------------------------------- 0.0/11.1 MB ? eta -:--:--\n",
      "   ---------------- ----------------------- 4.5/11.1 MB 20.7 MB/s eta 0:00:01\n",
      "   ---------------------------- ----------- 7.9/11.1 MB 18.7 MB/s eta 0:00:01\n",
      "   ---------------------------------------- 11.1/11.1 MB 16.9 MB/s eta 0:00:00\n",
      "Downloading squarify-0.4.4-py3-none-any.whl (4.1 kB)\n",
      "Downloading strsimpy-0.2.1-py3-none-any.whl (45 kB)\n",
      "Downloading xarray-2025.1.2-py3-none-any.whl (1.2 MB)\n",
      "   ---------------------------------------- 0.0/1.2 MB ? eta -:--:--\n",
      "   ---------------------------------------- 1.2/1.2 MB 10.6 MB/s eta 0:00:00\n",
      "Downloading xlrd-2.0.1-py2.py3-none-any.whl (96 kB)\n",
      "Downloading blinker-1.9.0-py3-none-any.whl (8.5 kB)\n",
      "Downloading click-8.1.8-py3-none-any.whl (98 kB)\n",
      "Downloading joblib-1.4.2-py3-none-any.whl (301 kB)\n",
      "Downloading narwhals-1.28.0-py3-none-any.whl (308 kB)\n",
      "Downloading soupsieve-2.6-py3-none-any.whl (36 kB)\n",
      "Downloading threadpoolctl-3.5.0-py3-none-any.whl (18 kB)\n",
      "Downloading Brotli-1.1.0-cp312-cp312-win_amd64.whl (357 kB)\n",
      "Downloading importlib_metadata-8.6.1-py3-none-any.whl (26 kB)\n",
      "Downloading retrying-1.3.4-py3-none-any.whl (11 kB)\n",
      "Downloading zstandard-0.23.0-cp312-cp312-win_amd64.whl (495 kB)\n",
      "Downloading zipp-3.21.0-py3-none-any.whl (9.6 kB)\n",
      "Building wheels for collected packages: dash-colorscales, dash-daq\n",
      "  Building wheel for dash-colorscales (pyproject.toml): started\n",
      "  Building wheel for dash-colorscales (pyproject.toml): finished with status 'done'\n",
      "  Created wheel for dash-colorscales: filename=dash_colorscales-0.0.4-py3-none-any.whl size=62590 sha256=04ed987c15d603224b5d0db8bdc35ba0c010ace17769c6bb806ac54b8251eea5\n",
      "  Stored in directory: c:\\users\\abhin\\appdata\\local\\pip\\cache\\wheels\\84\\23\\44\\63e5ef837d475b972c17c0a841473421c954069fdd7ba062ad\n",
      "  Building wheel for dash-daq (pyproject.toml): started\n",
      "  Building wheel for dash-daq (pyproject.toml): finished with status 'done'\n",
      "  Created wheel for dash-daq: filename=dash_daq-0.5.0-py3-none-any.whl size=669767 sha256=824db695606ac21d8933a647c1c7a71966f44f399e2c0c906372f6970061336b\n",
      "  Stored in directory: c:\\users\\abhin\\appdata\\local\\pip\\cache\\wheels\\40\\89\\1a\\4435006b003f97da22dbcad819d26f957dad9d54a1678876fd\n",
      "Successfully built dash-colorscales dash-daq\n",
      "Installing collected packages: strsimpy, squarify, kaleido, dash-table, dash-html-components, dash-core-components, dash-colorscales, brotli, zstandard, zipp, xlrd, werkzeug, threadpoolctl, soupsieve, retrying, narwhals, lz4, joblib, itsdangerous, future, et-xmlfile, click, blinker, scikit-learn, plotly, openpyxl, importlib-metadata, Flask, beautifulsoup4, xarray, Flask-Compress, dash, dash-daq, dash-bootstrap-components, dtale\n",
      "  Attempting uninstall: joblib\n",
      "    Found existing installation: joblib 1.1.1\n",
      "    Uninstalling joblib-1.1.1:\n",
      "      Successfully uninstalled joblib-1.1.1\n",
      "Successfully installed Flask-3.0.3 Flask-Compress-1.17 beautifulsoup4-4.13.3 blinker-1.9.0 brotli-1.1.0 click-8.1.8 dash-2.18.2 dash-bootstrap-components-1.7.1 dash-colorscales-0.0.4 dash-core-components-2.0.0 dash-daq-0.5.0 dash-html-components-2.0.0 dash-table-5.0.0 dtale-3.16.1 et-xmlfile-2.0.0 future-1.0.0 importlib-metadata-8.6.1 itsdangerous-2.2.0 joblib-1.4.2 kaleido-0.2.1 lz4-4.4.3 narwhals-1.28.0 openpyxl-3.1.5 plotly-6.0.0 retrying-1.3.4 scikit-learn-1.6.1 soupsieve-2.6 squarify-0.4.4 strsimpy-0.2.1 threadpoolctl-3.5.0 werkzeug-3.0.6 xarray-2025.1.2 xlrd-2.0.1 zipp-3.21.0 zstandard-0.23.0\n"
     ]
    },
    {
     "name": "stderr",
     "output_type": "stream",
     "text": [
      "ERROR: pip's dependency resolver does not currently take into account all the packages that are installed. This behaviour is the source of the following dependency conflicts.\n",
      "pandas-profiling 3.2.0 requires joblib~=1.1.0, but you have joblib 1.4.2 which is incompatible.\n",
      "ydata-profiling 4.12.2 requires visions[type_image_path]<0.8.0,>=0.7.5, but you have visions 0.7.4 which is incompatible.\n",
      "\n",
      "[notice] A new release of pip is available: 24.3.1 -> 25.0.1\n",
      "[notice] To update, run: python.exe -m pip install --upgrade pip\n"
     ]
    },
    {
     "data": {
      "text/html": [
       "\n",
       "        <iframe\n",
       "            width=\"100%\"\n",
       "            height=\"475\"\n",
       "            src=\"http://ACER:40000/dtale/iframe/1\"\n",
       "            frameborder=\"0\"\n",
       "            allowfullscreen\n",
       "            \n",
       "        ></iframe>\n",
       "        "
      ],
      "text/plain": [
       "<IPython.lib.display.IFrame at 0x1653080bc50>"
      ]
     },
     "metadata": {},
     "output_type": "display_data"
    },
    {
     "data": {
      "text/plain": []
     },
     "execution_count": 10,
     "metadata": {},
     "output_type": "execute_result"
    }
   ],
   "source": [
    "import dtale \n",
    "dtale.show(df)"
   ]
  },
  {
   "cell_type": "code",
   "execution_count": null,
   "metadata": {},
   "outputs": [],
   "source": [
    "!pip install sweetviz"
   ]
  },
  {
   "cell_type": "code",
   "execution_count": 12,
   "metadata": {},
   "outputs": [
    {
     "name": "stderr",
     "output_type": "stream",
     "text": [
      "Feature: survived                            |▋         | [  6%]   00:00 -> (00:00 left)"
     ]
    },
    {
     "name": "stderr",
     "output_type": "stream",
     "text": [
      "Feature: age                                 |██▌       | [ 25%]   00:00 -> (00:01 left)"
     ]
    },
    {
     "ename": "AttributeError",
     "evalue": "module 'numpy' has no attribute 'VisibleDeprecationWarning'",
     "output_type": "error",
     "traceback": [
      "\u001b[31m---------------------------------------------------------------------------\u001b[39m",
      "\u001b[31mAttributeError\u001b[39m                            Traceback (most recent call last)",
      "\u001b[36mCell\u001b[39m\u001b[36m \u001b[39m\u001b[32mIn[12]\u001b[39m\u001b[32m, line 3\u001b[39m\n\u001b[32m      1\u001b[39m \u001b[38;5;28;01mimport\u001b[39;00m\u001b[38;5;250m \u001b[39m\u001b[34;01msweetviz\u001b[39;00m\u001b[38;5;250m \u001b[39m\u001b[38;5;28;01mas\u001b[39;00m\u001b[38;5;250m \u001b[39m\u001b[34;01msv\u001b[39;00m\n\u001b[32m----> \u001b[39m\u001b[32m3\u001b[39m \u001b[43msv\u001b[49m\u001b[43m.\u001b[49m\u001b[43manalyze\u001b[49m\u001b[43m(\u001b[49m\u001b[43mdf\u001b[49m\u001b[43m)\u001b[49m\n",
      "\u001b[36mFile \u001b[39m\u001b[32mf:\\Practice\\Data Science\\EDA\\env\\Lib\\site-packages\\sweetviz\\sv_public.py:12\u001b[39m, in \u001b[36manalyze\u001b[39m\u001b[34m(source, target_feat, feat_cfg, pairwise_analysis)\u001b[39m\n\u001b[32m      8\u001b[39m \u001b[38;5;28;01mdef\u001b[39;00m\u001b[38;5;250m \u001b[39m\u001b[34manalyze\u001b[39m(source: Union[pd.DataFrame, Tuple[pd.DataFrame, \u001b[38;5;28mstr\u001b[39m]],\n\u001b[32m      9\u001b[39m             target_feat: \u001b[38;5;28mstr\u001b[39m = \u001b[38;5;28;01mNone\u001b[39;00m,\n\u001b[32m     10\u001b[39m             feat_cfg: FeatureConfig = \u001b[38;5;28;01mNone\u001b[39;00m,\n\u001b[32m     11\u001b[39m             pairwise_analysis: \u001b[38;5;28mstr\u001b[39m = \u001b[33m'\u001b[39m\u001b[33mauto\u001b[39m\u001b[33m'\u001b[39m):\n\u001b[32m---> \u001b[39m\u001b[32m12\u001b[39m     report = \u001b[43msweetviz\u001b[49m\u001b[43m.\u001b[49m\u001b[43mDataframeReport\u001b[49m\u001b[43m(\u001b[49m\u001b[43msource\u001b[49m\u001b[43m,\u001b[49m\u001b[43m \u001b[49m\u001b[43mtarget_feat\u001b[49m\u001b[43m,\u001b[49m\u001b[43m \u001b[49m\u001b[38;5;28;43;01mNone\u001b[39;49;00m\u001b[43m,\u001b[49m\n\u001b[32m     13\u001b[39m \u001b[43m                                      \u001b[49m\u001b[43mpairwise_analysis\u001b[49m\u001b[43m,\u001b[49m\u001b[43m \u001b[49m\u001b[43mfeat_cfg\u001b[49m\u001b[43m)\u001b[49m\n\u001b[32m     14\u001b[39m     \u001b[38;5;28;01mreturn\u001b[39;00m report\n",
      "\u001b[36mFile \u001b[39m\u001b[32mf:\\Practice\\Data Science\\EDA\\env\\Lib\\site-packages\\sweetviz\\dataframe_report.py:277\u001b[39m, in \u001b[36mDataframeReport.__init__\u001b[39m\u001b[34m(self, source, target_feature_name, compare, pairwise_analysis, fc, verbosity)\u001b[39m\n\u001b[32m    274\u001b[39m \u001b[38;5;28;01mfor\u001b[39;00m f \u001b[38;5;129;01min\u001b[39;00m features_to_process:\n\u001b[32m    275\u001b[39m     \u001b[38;5;66;03m# start = time.perf_counter()\u001b[39;00m\n\u001b[32m    276\u001b[39m     \u001b[38;5;28mself\u001b[39m.progress_bar.set_description_str(\u001b[33mf\u001b[39m\u001b[33m\"\u001b[39m\u001b[33mFeature: \u001b[39m\u001b[38;5;132;01m{\u001b[39;00mf.source.name\u001b[38;5;132;01m}\u001b[39;00m\u001b[33m\"\u001b[39m)\n\u001b[32m--> \u001b[39m\u001b[32m277\u001b[39m     \u001b[38;5;28mself\u001b[39m._features[f.source.name] = \u001b[43msa\u001b[49m\u001b[43m.\u001b[49m\u001b[43manalyze_feature_to_dictionary\u001b[49m\u001b[43m(\u001b[49m\u001b[43mf\u001b[49m\u001b[43m)\u001b[49m\n\u001b[32m    278\u001b[39m     \u001b[38;5;28mself\u001b[39m.progress_bar.update(\u001b[32m1\u001b[39m)\n\u001b[32m    279\u001b[39m     \u001b[38;5;66;03m# print(f\"DONE FEATURE------> {f.source.name}\"\u001b[39;00m\n\u001b[32m    280\u001b[39m     \u001b[38;5;66;03m#       f\" {(time.perf_counter() - start):.2f}   {self._features[f.source.name]['type']}\")\u001b[39;00m\n\u001b[32m    281\u001b[39m \u001b[38;5;66;03m# self.progress_bar.set_description_str('[FEATURES DONE]')\u001b[39;00m\n\u001b[32m    282\u001b[39m \u001b[38;5;66;03m# self.progress_bar.close()\u001b[39;00m\n\u001b[32m    283\u001b[39m \n\u001b[32m    284\u001b[39m \u001b[38;5;66;03m# Wrap up summary\u001b[39;00m\n",
      "\u001b[36mFile \u001b[39m\u001b[32mf:\\Practice\\Data Science\\EDA\\env\\Lib\\site-packages\\sweetviz\\series_analyzer.py:142\u001b[39m, in \u001b[36manalyze_feature_to_dictionary\u001b[39m\u001b[34m(to_process)\u001b[39m\n\u001b[32m    140\u001b[39m \u001b[38;5;66;03m# Perform full analysis on source/compare/target\u001b[39;00m\n\u001b[32m    141\u001b[39m \u001b[38;5;28;01mif\u001b[39;00m returned_feature_dict[\u001b[33m\"\u001b[39m\u001b[33mtype\u001b[39m\u001b[33m\"\u001b[39m] == FeatureType.TYPE_NUM:\n\u001b[32m--> \u001b[39m\u001b[32m142\u001b[39m     \u001b[43msweetviz\u001b[49m\u001b[43m.\u001b[49m\u001b[43mseries_analyzer_numeric\u001b[49m\u001b[43m.\u001b[49m\u001b[43manalyze\u001b[49m\u001b[43m(\u001b[49m\u001b[43mto_process\u001b[49m\u001b[43m,\u001b[49m\u001b[43m \u001b[49m\u001b[43mreturned_feature_dict\u001b[49m\u001b[43m)\u001b[49m\n\u001b[32m    143\u001b[39m \u001b[38;5;28;01melif\u001b[39;00m returned_feature_dict[\u001b[33m\"\u001b[39m\u001b[33mtype\u001b[39m\u001b[33m\"\u001b[39m] == FeatureType.TYPE_CAT:\n\u001b[32m    144\u001b[39m     sweetviz.series_analyzer_cat.analyze(to_process, returned_feature_dict)\n",
      "\u001b[36mFile \u001b[39m\u001b[32mf:\\Practice\\Data Science\\EDA\\env\\Lib\\site-packages\\sweetviz\\series_analyzer_numeric.py:102\u001b[39m, in \u001b[36manalyze\u001b[39m\u001b[34m(to_process, feature_dict)\u001b[39m\n\u001b[32m     98\u001b[39m     do_stats_numeric(to_process.compare, compare_dict)\n\u001b[32m    100\u001b[39m do_detail_numeric(to_process.source, to_process.source_counts, to_process.compare_counts, feature_dict)\n\u001b[32m--> \u001b[39m\u001b[32m102\u001b[39m feature_dict[\u001b[33m\"\u001b[39m\u001b[33mminigraph\u001b[39m\u001b[33m\"\u001b[39m] = \u001b[43mGraphNumeric\u001b[49m\u001b[43m(\u001b[49m\u001b[33;43m\"\u001b[39;49m\u001b[33;43mmini\u001b[39;49m\u001b[33;43m\"\u001b[39;49m\u001b[43m,\u001b[49m\u001b[43m \u001b[49m\u001b[43mto_process\u001b[49m\u001b[43m)\u001b[49m\n\u001b[32m    103\u001b[39m feature_dict[\u001b[33m\"\u001b[39m\u001b[33mdetail_graphs\u001b[39m\u001b[33m\"\u001b[39m] = \u001b[38;5;28mlist\u001b[39m()\n\u001b[32m    104\u001b[39m \u001b[38;5;28;01mfor\u001b[39;00m num_bins \u001b[38;5;129;01min\u001b[39;00m [\u001b[32m0\u001b[39m, \u001b[32m5\u001b[39m, \u001b[32m15\u001b[39m, \u001b[32m30\u001b[39m]:\n",
      "\u001b[36mFile \u001b[39m\u001b[32mf:\\Practice\\Data Science\\EDA\\env\\Lib\\site-packages\\sweetviz\\graph_numeric.py:71\u001b[39m, in \u001b[36mGraphNumeric.__init__\u001b[39m\u001b[34m(self, which_graph, to_process)\u001b[39m\n\u001b[32m     67\u001b[39m     normalizing_weights = norm_source\n\u001b[32m     69\u001b[39m gap_percent = config[\u001b[33m\"\u001b[39m\u001b[33mGraphs\u001b[39m\u001b[33m\"\u001b[39m].getfloat(\u001b[33m\"\u001b[39m\u001b[33msummary_graph_categorical_gap\u001b[39m\u001b[33m\"\u001b[39m)\n\u001b[32m---> \u001b[39m\u001b[32m71\u001b[39m warnings.filterwarnings(\u001b[33m'\u001b[39m\u001b[33mignore\u001b[39m\u001b[33m'\u001b[39m, category=\u001b[43mnp\u001b[49m\u001b[43m.\u001b[49m\u001b[43mVisibleDeprecationWarning\u001b[49m)\n\u001b[32m     72\u001b[39m \u001b[38;5;28mself\u001b[39m.hist_specs = axs.hist(plot_data, weights = normalizing_weights, bins=\u001b[38;5;28mself\u001b[39m.num_bins, \\\n\u001b[32m     73\u001b[39m                            rwidth = (\u001b[32m100.0\u001b[39m - gap_percent) / \u001b[32m100.0\u001b[39m)\n\u001b[32m     74\u001b[39m warnings.filterwarnings(\u001b[33m'\u001b[39m\u001b[33monce\u001b[39m\u001b[33m'\u001b[39m, category=np.VisibleDeprecationWarning)\n",
      "\u001b[36mFile \u001b[39m\u001b[32mf:\\Practice\\Data Science\\EDA\\env\\Lib\\site-packages\\numpy\\__init__.py:427\u001b[39m, in \u001b[36m__getattr__\u001b[39m\u001b[34m(attr)\u001b[39m\n\u001b[32m    424\u001b[39m     \u001b[38;5;28;01mimport\u001b[39;00m\u001b[38;5;250m \u001b[39m\u001b[34;01mnumpy\u001b[39;00m\u001b[34;01m.\u001b[39;00m\u001b[34;01mchar\u001b[39;00m\u001b[38;5;250m \u001b[39m\u001b[38;5;28;01mas\u001b[39;00m\u001b[38;5;250m \u001b[39m\u001b[34;01mchar\u001b[39;00m\n\u001b[32m    425\u001b[39m     \u001b[38;5;28;01mreturn\u001b[39;00m char.chararray\n\u001b[32m--> \u001b[39m\u001b[32m427\u001b[39m \u001b[38;5;28;01mraise\u001b[39;00m \u001b[38;5;167;01mAttributeError\u001b[39;00m(\u001b[33m\"\u001b[39m\u001b[33mmodule \u001b[39m\u001b[38;5;132;01m{!r}\u001b[39;00m\u001b[33m has no attribute \u001b[39m\u001b[33m\"\u001b[39m\n\u001b[32m    428\u001b[39m                      \u001b[33m\"\u001b[39m\u001b[38;5;132;01m{!r}\u001b[39;00m\u001b[33m\"\u001b[39m.format(\u001b[34m__name__\u001b[39m, attr))\n",
      "\u001b[31mAttributeError\u001b[39m: module 'numpy' has no attribute 'VisibleDeprecationWarning'"
     ]
    }
   ],
   "source": [
    "import sweetviz as sv\n",
    "\n",
    "sv.analyze(df)"
   ]
  },
  {
   "cell_type": "code",
   "execution_count": null,
   "metadata": {},
   "outputs": [],
   "source": []
  }
 ],
 "metadata": {
  "kernelspec": {
   "display_name": "env",
   "language": "python",
   "name": "python3"
  },
  "language_info": {
   "codemirror_mode": {
    "name": "ipython",
    "version": 3
   },
   "file_extension": ".py",
   "mimetype": "text/x-python",
   "name": "python",
   "nbconvert_exporter": "python",
   "pygments_lexer": "ipython3",
   "version": "3.12.9"
  }
 },
 "nbformat": 4,
 "nbformat_minor": 2
}
